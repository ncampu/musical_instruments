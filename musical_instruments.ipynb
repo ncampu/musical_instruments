{
 "cells": [
  {
   "cell_type": "markdown",
   "id": "3ccf486d",
   "metadata": {},
   "source": [
    "### Problem Statement\n",
    "\n",
    "Internet based companies often receive lots of feedback from customers. To go through all the comments/reviews can often be a very long and tedious task. So, I tasked myself with categorizing the comments/reviews for the company's feedback management system so they can more easily focus on customer issues. We have to build a model that most accurately categorizes a review as positive, negative, or neutral."
   ]
  },
  {
   "cell_type": "markdown",
   "id": "fb0ff3f7",
   "metadata": {},
   "source": [
    "Filtering through thousands of customer reviews can be a very long and arduous task for anyone, but is very important for the future of your product and ultimately your business. What if we you were able to categorize reviews so that you can immediately know if the customer has left a postive, neutral, or negative review? Utilizing my knowledge of Python and a Kaggle dataset, I apply machine learning models and figure out the most accurate machine learning algorithm to categorize musical instrument reviews left by customers."
   ]
  },
  {
   "cell_type": "markdown",
   "id": "bb4285dc",
   "metadata": {},
   "source": [
    "## Dataset attributes\n",
    "1. reviewerID - ID of the reviewer, e.g. A2SUAM1J3GNN3B\n",
    "2. asin - ID of the product, e.g. 0000013714\n",
    "3. reviewerName - name of the reviewer\n",
    "4. helpful - helpfulness rating of the review, e.g. 2/3\n",
    "5. reviewText - text of the review\n",
    "6. overall - rating of the product\n",
    "7. summary - summary of the review\n",
    "8. unixReviewTime - time of the review (unix time)\n",
    "9. reviewTime - time of the review (raw)"
   ]
  },
  {
   "cell_type": "markdown",
   "id": "016571f0",
   "metadata": {},
   "source": [
    "**Libraries used**"
   ]
  },
  {
   "cell_type": "code",
   "execution_count": 44,
   "id": "0acec907",
   "metadata": {},
   "outputs": [],
   "source": [
    "import numpy as np\n",
    "import pandas as pd\n",
    "import matplotlib.pyplot as plt\n",
    "%matplotlib inline\n",
    "import seaborn as sns\n",
    "import string\n",
    "import nltk\n",
    "from nltk.corpus import stopwords\n",
    "from sklearn.preprocessing import StandardScaler\n",
    "from sklearn.feature_extraction.text import TfidfVectorizer\n",
    "from sklearn.feature_extraction.text import TfidfTransformer\n",
    "from sklearn.model_selection import train_test_split\n",
    "from imblearn.over_sampling import SMOTE\n",
    "from imblearn.under_sampling import RandomUnderSampler\n",
    "from imblearn.pipeline import Pipeline\n",
    "from sklearn.model_selection import cross_val_score, cross_val_predict, KFold\n",
    "from sklearn.naive_bayes import MultinomialNB\n",
    "from sklearn.linear_model import LogisticRegression\n",
    "from sklearn.neighbors import KNeighborsClassifier\n",
    "from sklearn.svm import SVC\n",
    "from sklearn.model_selection import GridSearchCV\n",
    "from sklearn.tree import DecisionTreeClassifier\n",
    "from sklearn.ensemble import RandomForestClassifier\n",
    "from xgboost import XGBClassifier\n",
    "from xgboost import XGBRFClassifier\n",
    "from sklearn.metrics import classification_report, confusion_matrix\n",
    "import warnings\n",
    "warnings.filterwarnings('ignore')"
   ]
  },
  {
   "cell_type": "code",
   "execution_count": 2,
   "id": "10f6b600",
   "metadata": {},
   "outputs": [],
   "source": [
    "df = pd.read_csv('Musical_instruments_reviews.csv')"
   ]
  },
  {
   "cell_type": "markdown",
   "id": "71c2263b",
   "metadata": {},
   "source": [
    "## Exploratory Data Analysis"
   ]
  },
  {
   "cell_type": "code",
   "execution_count": 3,
   "id": "ee6865c4",
   "metadata": {},
   "outputs": [
    {
     "name": "stdout",
     "output_type": "stream",
     "text": [
      "<class 'pandas.core.frame.DataFrame'>\n",
      "RangeIndex: 10261 entries, 0 to 10260\n",
      "Data columns (total 9 columns):\n",
      " #   Column          Non-Null Count  Dtype  \n",
      "---  ------          --------------  -----  \n",
      " 0   reviewerID      10261 non-null  object \n",
      " 1   asin            10261 non-null  object \n",
      " 2   reviewerName    10234 non-null  object \n",
      " 3   helpful         10261 non-null  object \n",
      " 4   reviewText      10254 non-null  object \n",
      " 5   overall         10261 non-null  float64\n",
      " 6   summary         10261 non-null  object \n",
      " 7   unixReviewTime  10261 non-null  int64  \n",
      " 8   reviewTime      10261 non-null  object \n",
      "dtypes: float64(1), int64(1), object(7)\n",
      "memory usage: 721.6+ KB\n"
     ]
    }
   ],
   "source": [
    "df.info()"
   ]
  },
  {
   "cell_type": "markdown",
   "id": "ac222f17",
   "metadata": {},
   "source": [
    "Since we are analyzing only reviews ('reviewText') to predict the rating ('overall'), we will drop all the other columns."
   ]
  },
  {
   "cell_type": "code",
   "execution_count": 4,
   "id": "9f36350b",
   "metadata": {},
   "outputs": [],
   "source": [
    "df.drop(['reviewerID','asin','reviewerName','helpful','summary','unixReviewTime','reviewTime'],axis=1,inplace = True)"
   ]
  },
  {
   "cell_type": "code",
   "execution_count": 5,
   "id": "8d845c75",
   "metadata": {
    "scrolled": true
   },
   "outputs": [
    {
     "data": {
      "text/html": [
       "<div>\n",
       "<style scoped>\n",
       "    .dataframe tbody tr th:only-of-type {\n",
       "        vertical-align: middle;\n",
       "    }\n",
       "\n",
       "    .dataframe tbody tr th {\n",
       "        vertical-align: top;\n",
       "    }\n",
       "\n",
       "    .dataframe thead th {\n",
       "        text-align: right;\n",
       "    }\n",
       "</style>\n",
       "<table border=\"1\" class=\"dataframe\">\n",
       "  <thead>\n",
       "    <tr style=\"text-align: right;\">\n",
       "      <th></th>\n",
       "      <th>reviewText</th>\n",
       "      <th>overall</th>\n",
       "    </tr>\n",
       "  </thead>\n",
       "  <tbody>\n",
       "    <tr>\n",
       "      <th>0</th>\n",
       "      <td>Not much to write about here, but it does exac...</td>\n",
       "      <td>5.0</td>\n",
       "    </tr>\n",
       "    <tr>\n",
       "      <th>1</th>\n",
       "      <td>The product does exactly as it should and is q...</td>\n",
       "      <td>5.0</td>\n",
       "    </tr>\n",
       "    <tr>\n",
       "      <th>2</th>\n",
       "      <td>The primary job of this device is to block the...</td>\n",
       "      <td>5.0</td>\n",
       "    </tr>\n",
       "    <tr>\n",
       "      <th>3</th>\n",
       "      <td>Nice windscreen protects my MXL mic and preven...</td>\n",
       "      <td>5.0</td>\n",
       "    </tr>\n",
       "    <tr>\n",
       "      <th>4</th>\n",
       "      <td>This pop filter is great. It looks and perform...</td>\n",
       "      <td>5.0</td>\n",
       "    </tr>\n",
       "    <tr>\n",
       "      <th>...</th>\n",
       "      <td>...</td>\n",
       "      <td>...</td>\n",
       "    </tr>\n",
       "    <tr>\n",
       "      <th>10246</th>\n",
       "      <td>I had the opportunity to try a set of Elixir N...</td>\n",
       "      <td>5.0</td>\n",
       "    </tr>\n",
       "    <tr>\n",
       "      <th>10247</th>\n",
       "      <td>I was looking forward to trying these, as I've...</td>\n",
       "      <td>2.0</td>\n",
       "    </tr>\n",
       "    <tr>\n",
       "      <th>10248</th>\n",
       "      <td>I put these strings on my Guild acoustic elect...</td>\n",
       "      <td>5.0</td>\n",
       "    </tr>\n",
       "    <tr>\n",
       "      <th>10249</th>\n",
       "      <td>I ordered this for my husband, the musician.  ...</td>\n",
       "      <td>5.0</td>\n",
       "    </tr>\n",
       "    <tr>\n",
       "      <th>10250</th>\n",
       "      <td>I had used Elixer strings for several years on...</td>\n",
       "      <td>5.0</td>\n",
       "    </tr>\n",
       "  </tbody>\n",
       "</table>\n",
       "<p>10251 rows × 2 columns</p>\n",
       "</div>"
      ],
      "text/plain": [
       "                                              reviewText  overall\n",
       "0      Not much to write about here, but it does exac...      5.0\n",
       "1      The product does exactly as it should and is q...      5.0\n",
       "2      The primary job of this device is to block the...      5.0\n",
       "3      Nice windscreen protects my MXL mic and preven...      5.0\n",
       "4      This pop filter is great. It looks and perform...      5.0\n",
       "...                                                  ...      ...\n",
       "10246  I had the opportunity to try a set of Elixir N...      5.0\n",
       "10247  I was looking forward to trying these, as I've...      2.0\n",
       "10248  I put these strings on my Guild acoustic elect...      5.0\n",
       "10249  I ordered this for my husband, the musician.  ...      5.0\n",
       "10250  I had used Elixer strings for several years on...      5.0\n",
       "\n",
       "[10251 rows x 2 columns]"
      ]
     },
     "execution_count": 5,
     "metadata": {},
     "output_type": "execute_result"
    }
   ],
   "source": [
    "df.head(-10)"
   ]
  },
  {
   "cell_type": "markdown",
   "id": "33e140f5",
   "metadata": {},
   "source": [
    "## Exploratory Data Analysis"
   ]
  },
  {
   "cell_type": "markdown",
   "id": "69309eea",
   "metadata": {},
   "source": [
    "#### Missing values"
   ]
  },
  {
   "cell_type": "code",
   "execution_count": 6,
   "id": "43230cad",
   "metadata": {},
   "outputs": [
    {
     "data": {
      "text/plain": [
       "reviewText    7\n",
       "overall       0\n",
       "dtype: int64"
      ]
     },
     "execution_count": 6,
     "metadata": {},
     "output_type": "execute_result"
    }
   ],
   "source": [
    "# Number of null values in dataset\n",
    "df.isnull().sum()"
   ]
  },
  {
   "cell_type": "code",
   "execution_count": 7,
   "id": "174021ef",
   "metadata": {},
   "outputs": [
    {
     "data": {
      "text/plain": [
       "reviewText    0.068219\n",
       "overall       0.000000\n",
       "dtype: float64"
      ]
     },
     "execution_count": 7,
     "metadata": {},
     "output_type": "execute_result"
    }
   ],
   "source": [
    "# Percentage of null values in dataset\n",
    "(df.isnull().sum()/len(df))*100"
   ]
  },
  {
   "cell_type": "markdown",
   "id": "5173016c",
   "metadata": {},
   "source": [
    "Since reviewText is missing such few entries, we can just drop the rows for which the data is missing. Also, the entries without reviewText would not be useful to run a model on."
   ]
  },
  {
   "cell_type": "code",
   "execution_count": 8,
   "id": "e3cf2c2e",
   "metadata": {},
   "outputs": [],
   "source": [
    "df = df.dropna()"
   ]
  },
  {
   "cell_type": "markdown",
   "id": "74da1914",
   "metadata": {},
   "source": [
    "#### Outlier Search"
   ]
  },
  {
   "cell_type": "code",
   "execution_count": 9,
   "id": "eb277896",
   "metadata": {},
   "outputs": [],
   "source": [
    "# let's make a column that shows the length of each message\n",
    "df['length'] = df['reviewText'].apply(len)"
   ]
  },
  {
   "cell_type": "code",
   "execution_count": 10,
   "id": "23499a28",
   "metadata": {},
   "outputs": [
    {
     "data": {
      "text/html": [
       "<div>\n",
       "<style scoped>\n",
       "    .dataframe tbody tr th:only-of-type {\n",
       "        vertical-align: middle;\n",
       "    }\n",
       "\n",
       "    .dataframe tbody tr th {\n",
       "        vertical-align: top;\n",
       "    }\n",
       "\n",
       "    .dataframe thead th {\n",
       "        text-align: right;\n",
       "    }\n",
       "</style>\n",
       "<table border=\"1\" class=\"dataframe\">\n",
       "  <thead>\n",
       "    <tr style=\"text-align: right;\">\n",
       "      <th></th>\n",
       "      <th>count</th>\n",
       "      <th>mean</th>\n",
       "      <th>std</th>\n",
       "      <th>min</th>\n",
       "      <th>25%</th>\n",
       "      <th>50%</th>\n",
       "      <th>75%</th>\n",
       "      <th>max</th>\n",
       "    </tr>\n",
       "  </thead>\n",
       "  <tbody>\n",
       "    <tr>\n",
       "      <th>overall</th>\n",
       "      <td>10254.0</td>\n",
       "      <td>4.488492</td>\n",
       "      <td>0.894849</td>\n",
       "      <td>1.0</td>\n",
       "      <td>4.0</td>\n",
       "      <td>5.0</td>\n",
       "      <td>5.0</td>\n",
       "      <td>5.0</td>\n",
       "    </tr>\n",
       "    <tr>\n",
       "      <th>length</th>\n",
       "      <td>10254.0</td>\n",
       "      <td>486.260776</td>\n",
       "      <td>613.514024</td>\n",
       "      <td>9.0</td>\n",
       "      <td>163.0</td>\n",
       "      <td>285.0</td>\n",
       "      <td>552.0</td>\n",
       "      <td>11310.0</td>\n",
       "    </tr>\n",
       "  </tbody>\n",
       "</table>\n",
       "</div>"
      ],
      "text/plain": [
       "           count        mean         std  min    25%    50%    75%      max\n",
       "overall  10254.0    4.488492    0.894849  1.0    4.0    5.0    5.0      5.0\n",
       "length   10254.0  486.260776  613.514024  9.0  163.0  285.0  552.0  11310.0"
      ]
     },
     "execution_count": 10,
     "metadata": {},
     "output_type": "execute_result"
    }
   ],
   "source": [
    "df.describe().transpose()"
   ]
  },
  {
   "cell_type": "code",
   "execution_count": 11,
   "id": "215ddd4e",
   "metadata": {
    "scrolled": true
   },
   "outputs": [
    {
     "data": {
      "text/plain": [
       "array([[<AxesSubplot:title={'center':'1.0'}>,\n",
       "        <AxesSubplot:title={'center':'2.0'}>],\n",
       "       [<AxesSubplot:title={'center':'3.0'}>,\n",
       "        <AxesSubplot:title={'center':'4.0'}>],\n",
       "       [<AxesSubplot:title={'center':'5.0'}>, <AxesSubplot:>]],\n",
       "      dtype=object)"
      ]
     },
     "execution_count": 11,
     "metadata": {},
     "output_type": "execute_result"
    },
    {
     "data": {
      "image/png": "[encoded data removed]",
      "text/plain": [
       "<Figure size 864x720 with 6 Axes>"
      ]
     },
     "metadata": {},
     "output_type": "display_data"
    }
   ],
   "source": [
    "sns.set_style('darkgrid')\n",
    "df.hist(column='length', by='overall', bins=60, figsize=(12,10))"
   ]
  },
  {
   "cell_type": "markdown",
   "id": "7f64bb98",
   "metadata": {},
   "source": [
    "It appears that most 5-star reviews are relatively short while 1-star reviews are longer. This makes sense because customers who are unhappy with their product will usually want to express their frustrations and why they don't like the product."
   ]
  },
  {
   "cell_type": "code",
   "execution_count": 12,
   "id": "e845d356",
   "metadata": {},
   "outputs": [
    {
     "data": {
      "text/plain": [
       "'COMPARISONS: I have compared, side by side, the following pedals:Fulltone mini deja vibe ($200), Dunlop Univibe (discontinued stainless steel model)($220), Dunlop Roto-vibe ($180), Voodoo Labs Micro Vibe ($150), BBE Soul Bender ($129) as well as comparing to some \"different beasts\" in the modulation family - an MXR phase 90, MXR EVH flanger, Boss chorus, Behringer Vibrato, and Behringer Time Machine.SUMMARY - just the factsA great pedal and my favorite uni-vibe of all. Doesn\\'t take a lot of space up, standard power supply, good visibility on control knob settings. Does not add or subtract frequencies to the signal or add noise. This is the only pedal in the univibe group I can say that about and it\\'s why it\\'s almost certainly going to be the one I keep. Might have slightly less ability to produce as thick of a univibe effect as some of the others -- still need to play with it a little more. Overall I LOVE this pedal at under 60 bucks. Only downsides I see are the LED does not flash the speed rate, and the speed control is top left which makes it hard to \"toe tweak\" with my right foot. Quality seems ok, but time will tell on durability.PROS- Smallish form factor, although slightly larger than a \"boss\" pedal, doesn\\'t take much more room than a standard pedal.- Standard power supply (9v Center negative), and jack on top back for easy access - not in the way for patch cables on sides.- Switchable between chorus(univibe) and vibrato.- Controls spaced well for handling and use knobs with high visibility marking - easy to see.- Best PRO is that it does not boost or cut volume and does not boost or cut bass, mids, or lows. It just applies the uni-vibe type effect as dialed in and retains the character of the guitar tone. This is the only pedal I tested that I can say that about -- and most of the others cost 2-4 times what this one cost.- LED is red, visible and NOT a weird bright laser to my retina- The PRICE at about 60 bucks - is a great deal- Quality of construction -- metal case, decent knobs, pots and switches - no complaints so far.CONS- LED does not flash speed rate- Speed control would be better placed Top right or bottom right for \"toe\" tweaking- I have just had this a day so can\\'t tell but might be limited in getting the deepest most lush univibe sound - not sure about that and I will update this review as I get time to test further. But it sounds great to me...OVERALL - highly recommended if you want a univibe and don\\'t want to do a lot of comparison shopping. I have done it for you. Some users report quality issues here -- I guess time will tell on that. Mine works fine so far, and for $60 you could buy 2 and still save money over most other options available.--------------------------------------NOTES ON ***OTHER*** PEDALS I COMPARED---------------------------------------- Fulltone Mini Deja vibe -- highest quality construction (as expected at $200). The large knob in the lower right corner for speed is great and allows toe tweaking -- very useful on a vibe pedal. My complaint is that this vibe colors my tone - it boosts the mid range tones while maintaining the crisp highs and slightly losing the bass. This probably helps the sound stand out in a mix, however, I\\'d rather that my vibe not provide EQ because when I switch it on or off, I don\\'t want to have to compensate at my guitar tone knobs to try to get back \"my sound\". I was able to match exactly an authentic original Uni-vibe sound with some adjusting. It seems to kind of muffle the pick attack or compress it also. I have a love-hate relationship with this pedal after about a week of testing it. Some days I hate it...but I like the build quality and the speed control. I originally liked that it was one of only two pedals that didn\\'t strip the treble off my tone -- until I realized the mids were boosted, the bass was cut and the pick attack was somehow tweaked. Mixed bag, and at $200 shouldn\\'t be.- MXR/Dunlop M68 (new in 2014). At about $140, The new M68 Uni-Vibe is a very good vibe pedal with much to like. It is second place on my list. On pure sound I might even like it slightly better than the Jimi, and that\\'s saying something! It\\'s the perfect form factor (shape/size) with no significant coloration of the tone, other than perhaps a tiny boost of treble in one mode. The M68 gives the Jimi a good run...and if you are extremely tight on board space, it might be a better choice for you. They sound very similar. The M68 has a wider range of adjustment on speed/depth than the Jimi, but I\\'m not sure the extra range is useful. MXR/Jim Dunlop/MXR have GREAT factory customer service if you ever have an issue. They fixed one of my pedals free even though out of warranty. I really do wish MXR would move their power supply jack to the rear vertical surface instead of the right side vertical surface. It is often in the way of right angle plugs on all my other MXR\\'s. Use of the small top left push button for switching from chorus to vibe on this pedal was the main negative issue as I\\'d have to leave it with the mini switch engaged, and the red LED burning all the time, looking like it is on when I was not actually engaging the circuit with the main switch. It was also a tight fit. This pedal has a level knob which I\\'m usually a fan of but I don\\'t see the need for it on this effect. I didn\\'t care for the white \"main\" LED much, and of course the power supply location. The LED on this does pulse the speed, but was annoying due to the white LED. That\\'s a subjective thing I suppose. All said this is a great sounding option with that perfect MXR size, so a good choice. But still 2X the cost of the Jimi. I stuck with the Jimi on form, function, sound, and value.- Dunlop Uni-vibe UV1 -- Cool stainless steel construction. Knobs were hard to see settings. placement of vintage switch on the back of the pedal was easily forgotten at worst and awkward at best. Non standard 18V power supply takes double slots from my power supply brick. Sound was very good but did also color my EQ sound by boosting the bass, and muffling the mids and highs slightly. On the one hand, this sound matched a lot of recorded uni-vibe sounds I\\'ve heard. On the other hand, once you strip the treble its hard to put it back in the mix. The seller had a 3 day return policy (3 days??!!) so I returned it and they lost the sale. Othewise, I would still be thinking about this one. I was on the fence about whether it was my winner. I was able to match a true uni-vibe sample, but the treble was slightly lacking and bugged me. At $220 I\\'d have to love it to keep it.- Voodoo Labs Micro Vibe - Liked the form factor, the simple controls, high visibility knobs, ability to toe tweak controls, standard 9V power supply, and placement of all jacks. Can get a very lush, even excessive univibe sound except the bass is very boosted, and mids/highs are cut. The EQ effect just kills the pedal for me. Its going back. Not my pick at $150.- BBE Soul Bender - My least favorite Vibe. It had extreme muffling of mids and highs, heavy boost of bass. In a band mix, I\\'m pretty sure it would get totally lost. At home, might sound ok. form factor was good, controls were simple, I think it pulsed the speed. My recollection is it had an overly bright blue LED. It was the first vibe I bought, and I only compared to Fulltone and Dunlop before returning it. Had some useable sounds, but with the intensity above 50% had an annoying \"womp womp womp\" of a bass note that was not coming from my guitar -- a weird defect in the effect sound in my opinion. With intensity below 50% it was usable...kind of. But a tone muffler. I returned this one early.- Dunlop ROTO-Vibe : A good choice (perhaps the only choice) if you MUST have expression pedal controlled speed adjustment. Didn\\'t color the tone much - and that was a problem on most other uni-vibes tested. Limited speed range and awkward controls placement were most annoying to me. Intensity range seemed less than other pedals too. Large footprint if mounted on board, but also offers the ability to take NO space on the board by not mounting it. I didn\\'t like that when you switch the effect on, you are automatically at high speed due to the mechanical nature of the design. Some awkwardness in the placement of controls and power plug vs guitar cables when plugged in. Std power supply a plus. LED indicators good and flash the speed. Durable construction although the mechanical nature means in time something will need lubricating and you may need to replace internal gears or pots. Overpriced 1.5 to 2X in my opinion.- Other general modulation effects. Univibes are effectively a phase effect - without the swooshy space-age edge on the sound. You can probably modify a modern phaser pedal to get the univibe sound which is like a vibrato plus analog chorus combined. A modern phaser is close, a modern flanger is much too space-age sounding. Vibrato pedals can capture the vibrato aspect of a uni-vibe and I\\'d recommend the behringer vibrato at $25 if you like vibrato sounds. uni-vibes are normally used for their \"chorus\" setting, not the vibrato setting. Didn\\'t care for the Behringer time machine.My gear used for testing: Fender American Deluxe stratocaster. Mesa Mini-rectifier amplifier, Mesa Rectifier 2x12 cabinet with Celestion V30\\'s. Pedal train pedal board, voodoo labs pedal power power supplies.A NOTE ON VENDOR SELECTIONI had a very bad experience with the vendor I bought my MXR/Dunlop M68 from, and while it does not weigh at all on my review of that product, I provided a separate star rating on the vendor feedback page. I recommend if you choose to purchase that pedal (or anything else) you be careful to avoid the Amazon Marketplace vendor called MixDSPnet in San Jose, CA. In addition to charging a 15% restocking fee if you want to return the pedal (in original condition with all materials and packaging), getting them to even acknowledge the return request at all was a problem and took over a week and finally opening a claim with Amazon to get any meaningful response. Once they did communicate, they were very unprofessional. Further, when the product was shipped back signature required (as recommended by amazon), they were \"not available\" or refused to sign for it so after several weeks of attempting to return the product, it remains **unrefunded** despite their confirmation that I could return the item for an 85% refund. I expect I\\'ll need to work further with Amazon in the end to get this resolved. A google earth view of their addressed explained it all. MixDSPnet appears to be running out of an apartment complex. Most Amazon marketplace sellers are just fine but this one is really not, at least when it comes to returns. Also, while they sell a few Dunlop/MXR guitar pedals, looking at their site reveals it\\'s not their primary business - they seem to sell a bunch of other non-musical widgets. My recommendation is that you find a vendor who is in the musical instrument business and who will provide the typical no cost refunds for 30 to 45 days as most large musical instrument retailers do, should you need it. They have a few hundred positive transactions, so maybe can be OK but I can only comment on my experience and this was the worst online transaction I\\'ve ever had shopping on amazon.'"
      ]
     },
     "execution_count": 12,
     "metadata": {},
     "output_type": "execute_result"
    }
   ],
   "source": [
    "# What a long review... And it's a real review, too.\n",
    "df[df['length']==11310]['reviewText'].iloc[0]"
   ]
  },
  {
   "cell_type": "code",
   "execution_count": 13,
   "id": "8e8e4d6b",
   "metadata": {},
   "outputs": [
    {
     "data": {
      "text/plain": [
       "'excellent'"
      ]
     },
     "execution_count": 13,
     "metadata": {},
     "output_type": "execute_result"
    }
   ],
   "source": [
    "df[df['length']==9]['reviewText'].iloc[0]"
   ]
  },
  {
   "cell_type": "markdown",
   "id": "9bb6269a",
   "metadata": {},
   "source": [
    "It appears that the reviews here are legit and that there aren't any outliers. "
   ]
  },
  {
   "cell_type": "code",
   "execution_count": 14,
   "id": "a2006be6",
   "metadata": {},
   "outputs": [],
   "source": [
    "df.drop('length',axis=1,inplace=True)"
   ]
  },
  {
   "cell_type": "markdown",
   "id": "a26ea24b",
   "metadata": {},
   "source": [
    "## Data Preprocessing"
   ]
  },
  {
   "cell_type": "markdown",
   "id": "eeb7d56d",
   "metadata": {},
   "source": [
    "#### Numerical PreProcessing"
   ]
  },
  {
   "cell_type": "markdown",
   "id": "a63b2e2b",
   "metadata": {},
   "source": [
    "I will remap the product ratings such that:\n",
    "* positive (5 stars, 4 stars) $\\to$ 2\n",
    "* neutral (3 stars) $\\to$ 1\n",
    "* negative (2 stars, 1 star) $\\to$ 0"
   ]
  },
  {
   "cell_type": "code",
   "execution_count": 15,
   "id": "a6acaee8",
   "metadata": {},
   "outputs": [],
   "source": [
    "# Remapping the ratings\n",
    "df['overall'] = df['overall'].map({1.0:0, 2.0:0, 3.0:1, 4.0:2, 5.0:2})"
   ]
  },
  {
   "cell_type": "markdown",
   "id": "391a1a1b",
   "metadata": {},
   "source": [
    "#### Text PreProcessing"
   ]
  },
  {
   "cell_type": "markdown",
   "id": "d2504ea8",
   "metadata": {},
   "source": [
    "We will start to clean up our reviewText column by removing stopwords, removing punctuation, converting all text to lowercase, and lemmatizing all words to reduce word variability."
   ]
  },
  {
   "cell_type": "code",
   "execution_count": 16,
   "id": "f17212ec",
   "metadata": {},
   "outputs": [
    {
     "name": "stderr",
     "output_type": "stream",
     "text": [
      "[nltk_data] Downloading package stopwords to\n",
      "[nltk_data]     C:\\Users\\Nico\\AppData\\Roaming\\nltk_data...\n",
      "[nltk_data]   Package stopwords is already up-to-date!\n"
     ]
    },
    {
     "data": {
      "text/plain": [
       "True"
      ]
     },
     "execution_count": 16,
     "metadata": {},
     "output_type": "execute_result"
    }
   ],
   "source": [
    "nltk.download('stopwords')"
   ]
  },
  {
   "cell_type": "code",
   "execution_count": 17,
   "id": "61dbed57",
   "metadata": {},
   "outputs": [
    {
     "data": {
      "text/plain": [
       "['i',\n",
       " 'me',\n",
       " 'my',\n",
       " 'myself',\n",
       " 'we',\n",
       " 'our',\n",
       " 'ours',\n",
       " 'ourselves',\n",
       " 'you',\n",
       " \"you're\",\n",
       " \"you've\",\n",
       " \"you'll\",\n",
       " \"you'd\",\n",
       " 'your',\n",
       " 'yours',\n",
       " 'yourself',\n",
       " 'yourselves',\n",
       " 'he',\n",
       " 'him',\n",
       " 'his',\n",
       " 'himself',\n",
       " 'she',\n",
       " \"she's\",\n",
       " 'her',\n",
       " 'hers',\n",
       " 'herself',\n",
       " 'it',\n",
       " \"it's\",\n",
       " 'its',\n",
       " 'itself',\n",
       " 'they',\n",
       " 'them',\n",
       " 'their',\n",
       " 'theirs',\n",
       " 'themselves',\n",
       " 'what',\n",
       " 'which',\n",
       " 'who',\n",
       " 'whom',\n",
       " 'this',\n",
       " 'that',\n",
       " \"that'll\",\n",
       " 'these',\n",
       " 'those',\n",
       " 'am',\n",
       " 'is',\n",
       " 'are',\n",
       " 'was',\n",
       " 'were',\n",
       " 'be',\n",
       " 'been',\n",
       " 'being',\n",
       " 'have',\n",
       " 'has',\n",
       " 'had',\n",
       " 'having',\n",
       " 'do',\n",
       " 'does',\n",
       " 'did',\n",
       " 'doing',\n",
       " 'a',\n",
       " 'an',\n",
       " 'the',\n",
       " 'and',\n",
       " 'but',\n",
       " 'if',\n",
       " 'or',\n",
       " 'because',\n",
       " 'as',\n",
       " 'until',\n",
       " 'while',\n",
       " 'of',\n",
       " 'at',\n",
       " 'by',\n",
       " 'for',\n",
       " 'with',\n",
       " 'about',\n",
       " 'against',\n",
       " 'between',\n",
       " 'into',\n",
       " 'through',\n",
       " 'during',\n",
       " 'before',\n",
       " 'after',\n",
       " 'above',\n",
       " 'below',\n",
       " 'to',\n",
       " 'from',\n",
       " 'up',\n",
       " 'down',\n",
       " 'in',\n",
       " 'out',\n",
       " 'on',\n",
       " 'off',\n",
       " 'over',\n",
       " 'under',\n",
       " 'again',\n",
       " 'further',\n",
       " 'then',\n",
       " 'once',\n",
       " 'here',\n",
       " 'there',\n",
       " 'when',\n",
       " 'where',\n",
       " 'why',\n",
       " 'how',\n",
       " 'all',\n",
       " 'any',\n",
       " 'both',\n",
       " 'each',\n",
       " 'few',\n",
       " 'more',\n",
       " 'most',\n",
       " 'other',\n",
       " 'some',\n",
       " 'such',\n",
       " 'no',\n",
       " 'nor',\n",
       " 'not',\n",
       " 'only',\n",
       " 'own',\n",
       " 'same',\n",
       " 'so',\n",
       " 'than',\n",
       " 'too',\n",
       " 'very',\n",
       " 's',\n",
       " 't',\n",
       " 'can',\n",
       " 'will',\n",
       " 'just',\n",
       " 'don',\n",
       " \"don't\",\n",
       " 'should',\n",
       " \"should've\",\n",
       " 'now',\n",
       " 'd',\n",
       " 'll',\n",
       " 'm',\n",
       " 'o',\n",
       " 're',\n",
       " 've',\n",
       " 'y',\n",
       " 'ain',\n",
       " 'aren',\n",
       " \"aren't\",\n",
       " 'couldn',\n",
       " \"couldn't\",\n",
       " 'didn',\n",
       " \"didn't\",\n",
       " 'doesn',\n",
       " \"doesn't\",\n",
       " 'hadn',\n",
       " \"hadn't\",\n",
       " 'hasn',\n",
       " \"hasn't\",\n",
       " 'haven',\n",
       " \"haven't\",\n",
       " 'isn',\n",
       " \"isn't\",\n",
       " 'ma',\n",
       " 'mightn',\n",
       " \"mightn't\",\n",
       " 'mustn',\n",
       " \"mustn't\",\n",
       " 'needn',\n",
       " \"needn't\",\n",
       " 'shan',\n",
       " \"shan't\",\n",
       " 'shouldn',\n",
       " \"shouldn't\",\n",
       " 'wasn',\n",
       " \"wasn't\",\n",
       " 'weren',\n",
       " \"weren't\",\n",
       " 'won',\n",
       " \"won't\",\n",
       " 'wouldn',\n",
       " \"wouldn't\"]"
      ]
     },
     "execution_count": 17,
     "metadata": {},
     "output_type": "execute_result"
    }
   ],
   "source": [
    "# Full list of English stopwords\n",
    "stopwords.words('english')"
   ]
  },
  {
   "cell_type": "code",
   "execution_count": 18,
   "id": "60fc2f0a",
   "metadata": {},
   "outputs": [],
   "source": [
    "# Building function to clean our text\n",
    "from nltk.stem import WordNetLemmatizer\n",
    "import string\n",
    "\n",
    "lemmatizer = WordNetLemmatizer()\n",
    "punctuation = list(string.punctuation)\n",
    "stop = set(stopwords.words('english') + punctuation)\n",
    "stop.update(punctuation)\n",
    "\n",
    "def text_cleaner(messy):\n",
    "    clean_text = []\n",
    "    for word in messy.split():\n",
    "        if word.lower() not in stop:\n",
    "            lem = lemmatizer.lemmatize(word)\n",
    "            clean_text.append(lem.lower())\n",
    "    return \" \".join(clean_text)"
   ]
  },
  {
   "cell_type": "code",
   "execution_count": 19,
   "id": "1d5dc261",
   "metadata": {},
   "outputs": [],
   "source": [
    "# Cleaning our text\n",
    "df['reviewText'] = df['reviewText'].apply(text_cleaner)"
   ]
  },
  {
   "cell_type": "markdown",
   "id": "21e52729",
   "metadata": {},
   "source": [
    "## Vectorization and TFIDF"
   ]
  },
  {
   "attachments": {
    "image.png": {
     "image/png": "[encoded data removed]"
    }
   },
   "cell_type": "markdown",
   "id": "29123751",
   "metadata": {},
   "source": [
    "All machine learning models are some kind of mathematical model that need numbers to work with, so we will convert our text to numerical values. We will be using Term Frequency Inverse Document Frequency (TFIDF) Vectorizer to convert and sum all words per review to a numerical value. Then, we will use TF-IDF to assign a weight to each word per review. \n",
    "\n",
    "An example of this process has been given below.\n",
    "\n",
    "![image.png](attachment:image.png)"
   ]
  },
  {
   "cell_type": "code",
   "execution_count": 20,
   "id": "7d37ca90",
   "metadata": {},
   "outputs": [],
   "source": [
    "text_bag = TfidfVectorizer(max_features=5000,ngram_range=(2,2)).fit_transform(df['reviewText'])"
   ]
  },
  {
   "cell_type": "code",
   "execution_count": 21,
   "id": "139ceb2c",
   "metadata": {},
   "outputs": [
    {
     "name": "stdout",
     "output_type": "stream",
     "text": [
      "Shape of sparse matrix:  (10254, 5000)\n"
     ]
    }
   ],
   "source": [
    "print('Shape of sparse matrix: ', text_bag.shape)"
   ]
  },
  {
   "cell_type": "code",
   "execution_count": 22,
   "id": "0f061857",
   "metadata": {},
   "outputs": [],
   "source": [
    "tfidf_transformer = TfidfTransformer().fit(text_bag)"
   ]
  },
  {
   "cell_type": "code",
   "execution_count": 23,
   "id": "f89bb294",
   "metadata": {},
   "outputs": [],
   "source": [
    "review_tfidf = tfidf_transformer.transform(text_bag)"
   ]
  },
  {
   "cell_type": "markdown",
   "id": "e2483d67",
   "metadata": {},
   "source": [
    "## Handling Target Imbalance with SMOTE"
   ]
  },
  {
   "cell_type": "code",
   "execution_count": 24,
   "id": "610df98a",
   "metadata": {},
   "outputs": [
    {
     "data": {
      "text/plain": [
       "2    9015\n",
       "1     772\n",
       "0     467\n",
       "Name: overall, dtype: int64"
      ]
     },
     "execution_count": 24,
     "metadata": {},
     "output_type": "execute_result"
    }
   ],
   "source": [
    "df['overall'].value_counts()"
   ]
  },
  {
   "cell_type": "code",
   "execution_count": 25,
   "id": "5fb2477f",
   "metadata": {},
   "outputs": [
    {
     "data": {
      "text/plain": [
       "Text(0, 0.5, 'Count')"
      ]
     },
     "execution_count": 25,
     "metadata": {},
     "output_type": "execute_result"
    },
    {
     "data": {
      "image/png": "[encoded data removed]",
      "text/plain": [
       "<Figure size 576x432 with 1 Axes>"
      ]
     },
     "metadata": {},
     "output_type": "display_data"
    }
   ],
   "source": [
    "plt.figure(figsize=(8,6))\n",
    "sns.countplot(x='overall',data=df,palette='viridis')\n",
    "plt.xlabel('Overall',fontsize=16)\n",
    "plt.ylabel('Count',fontsize=16)"
   ]
  },
  {
   "cell_type": "markdown",
   "id": "54239c8e",
   "metadata": {},
   "source": [
    "There are 9015 positive ratings, but only 772 neutral and 467 negative ratings. In a classification models, severely imbalanced classes like this usually leads to poor model performance. Therefore, I will be creating synthetic data that is relatively close and plausible to the minority classes such that there are 9015 positive, 9015 neutral, and 9015 negative ratings in the dataset. This allows for the model to learn more and become more accurate when predicting the neutral and negative ratings."
   ]
  },
  {
   "cell_type": "code",
   "execution_count": 26,
   "id": "0fdc81d5",
   "metadata": {},
   "outputs": [],
   "source": [
    "X = review_tfidf\n",
    "y = df['overall']\n",
    "oversampling_smote = SMOTE(sampling_strategy={1:9015, 0:9015})\n",
    "undersampling = RandomUnderSampler(sampling_strategy={2:9015})\n",
    "pipeline = Pipeline([('under', undersampling), ('over', oversampling_smote)])\n",
    "df_train_resampled = pipeline.fit_resample(X, y)\n",
    "X_smote = df_train_resampled[0] # Resampled X_train\n",
    "y_smote = df_train_resampled[1] # Resample y_train"
   ]
  },
  {
   "cell_type": "code",
   "execution_count": 27,
   "id": "ec2c4057",
   "metadata": {},
   "outputs": [
    {
     "name": "stdout",
     "output_type": "stream",
     "text": [
      "(27045, 5000)\n",
      "(27045,)\n"
     ]
    }
   ],
   "source": [
    "print(X_smote.shape)\n",
    "print(y_smote.shape)"
   ]
  },
  {
   "cell_type": "markdown",
   "id": "9a9f9f83",
   "metadata": {},
   "source": [
    "## Train Test Split"
   ]
  },
  {
   "cell_type": "code",
   "execution_count": 28,
   "id": "7dba118e",
   "metadata": {},
   "outputs": [],
   "source": [
    "X_train, X_test, y_train, y_test = train_test_split(X_smote, y_smote, test_size=0.3, random_state=101)"
   ]
  },
  {
   "cell_type": "markdown",
   "id": "3baab6b9",
   "metadata": {},
   "source": [
    "## Training and Evaluating Models"
   ]
  },
  {
   "cell_type": "markdown",
   "id": "bd946313",
   "metadata": {},
   "source": [
    "#### Multinomial Naive-Bayes"
   ]
  },
  {
   "cell_type": "code",
   "execution_count": 29,
   "id": "5f6deb75",
   "metadata": {},
   "outputs": [
    {
     "name": "stdout",
     "output_type": "stream",
     "text": [
      "MNB Accuracy: 0.8327607821179331\n"
     ]
    }
   ],
   "source": [
    "MNB = MultinomialNB()\n",
    "KF = KFold(n_splits=5,shuffle=True,random_state=101)\n",
    "accuracy = np.mean(cross_val_score(MNB,X_train,y_train,cv=KF,scoring='accuracy'))\n",
    "print('MNB Accuracy: '+str(accuracy))"
   ]
  },
  {
   "cell_type": "markdown",
   "id": "8b3f37ac",
   "metadata": {},
   "source": [
    "#### Logistic Regression"
   ]
  },
  {
   "cell_type": "code",
   "execution_count": 30,
   "id": "dc86e079",
   "metadata": {},
   "outputs": [
    {
     "name": "stdout",
     "output_type": "stream",
     "text": [
      "LR Accuracy: 0.863028940305276\n"
     ]
    }
   ],
   "source": [
    "LR = LogisticRegression()\n",
    "KF = KFold(n_splits=5,shuffle=True,random_state=101)\n",
    "accuracy = np.mean(cross_val_score(LR,X_train,y_train,cv=KF,scoring='accuracy'))\n",
    "print('LR Accuracy: '+str(accuracy))"
   ]
  },
  {
   "cell_type": "markdown",
   "id": "e95cd0dd",
   "metadata": {},
   "source": [
    "#### Kernel Nearest Neighbor"
   ]
  },
  {
   "cell_type": "code",
   "execution_count": 31,
   "id": "6c5d5649",
   "metadata": {},
   "outputs": [
    {
     "name": "stdout",
     "output_type": "stream",
     "text": [
      "KNN Accuracy: 0.6235273423370831\n"
     ]
    }
   ],
   "source": [
    "KNN = KNeighborsClassifier()\n",
    "KF = KFold(n_splits=5,shuffle=True,random_state=101)\n",
    "accuracy = np.mean(cross_val_score(KNN,X_train,y_train,cv=KF,scoring='accuracy'))\n",
    "print('KNN Accuracy: '+str(accuracy))"
   ]
  },
  {
   "cell_type": "markdown",
   "id": "52e919d6",
   "metadata": {},
   "source": [
    "We have very bad accuracy here, probably because the default value for K, which is 5, is not a good choice for this dataset. We will use the Elbow Method to find the optimal value for K."
   ]
  },
  {
   "cell_type": "code",
   "execution_count": 32,
   "id": "1b2bd5cd",
   "metadata": {},
   "outputs": [],
   "source": [
    "#The Elbow Method for KNN\n",
    "error_rate = []\n",
    "\n",
    "for i in range(1,20):\n",
    "    KNN = KNeighborsClassifier(n_neighbors=i)\n",
    "    KNN.fit(X_train,y_train)\n",
    "    pred_i = KNN.predict(X_test)\n",
    "    error_rate.append(np.mean(pred_i != y_test)) # creating a list of error rates"
   ]
  },
  {
   "cell_type": "code",
   "execution_count": 33,
   "id": "939b7012",
   "metadata": {},
   "outputs": [
    {
     "data": {
      "text/plain": [
       "([<matplotlib.axis.XTick at 0x1432f2ea730>,\n",
       "  <matplotlib.axis.XTick at 0x1432f2ea7f0>,\n",
       "  <matplotlib.axis.XTick at 0x1429fefde50>,\n",
       "  <matplotlib.axis.XTick at 0x1432f0863d0>,\n",
       "  <matplotlib.axis.XTick at 0x1432f086760>,\n",
       "  <matplotlib.axis.XTick at 0x14334d2d070>,\n",
       "  <matplotlib.axis.XTick at 0x1432f07c760>,\n",
       "  <matplotlib.axis.XTick at 0x14334d2d4f0>,\n",
       "  <matplotlib.axis.XTick at 0x14334d2da00>,\n",
       "  <matplotlib.axis.XTick at 0x1432eb2d340>,\n",
       "  <matplotlib.axis.XTick at 0x1432f07c6d0>,\n",
       "  <matplotlib.axis.XTick at 0x14337247a60>,\n",
       "  <matplotlib.axis.XTick at 0x14337247f70>,\n",
       "  <matplotlib.axis.XTick at 0x143372724c0>,\n",
       "  <matplotlib.axis.XTick at 0x143372729d0>,\n",
       "  <matplotlib.axis.XTick at 0x14337272ee0>,\n",
       "  <matplotlib.axis.XTick at 0x14337271430>,\n",
       "  <matplotlib.axis.XTick at 0x14337271940>,\n",
       "  <matplotlib.axis.XTick at 0x14337272a90>],\n",
       " [Text(0, 0, ''),\n",
       "  Text(0, 0, ''),\n",
       "  Text(0, 0, ''),\n",
       "  Text(0, 0, ''),\n",
       "  Text(0, 0, ''),\n",
       "  Text(0, 0, ''),\n",
       "  Text(0, 0, ''),\n",
       "  Text(0, 0, ''),\n",
       "  Text(0, 0, ''),\n",
       "  Text(0, 0, ''),\n",
       "  Text(0, 0, ''),\n",
       "  Text(0, 0, ''),\n",
       "  Text(0, 0, ''),\n",
       "  Text(0, 0, ''),\n",
       "  Text(0, 0, ''),\n",
       "  Text(0, 0, ''),\n",
       "  Text(0, 0, ''),\n",
       "  Text(0, 0, ''),\n",
       "  Text(0, 0, '')])"
      ]
     },
     "execution_count": 33,
     "metadata": {},
     "output_type": "execute_result"
    },
    {
     "data": {
      "image/png": "[encoded data removed]",
      "text/plain": [
       "<Figure size 864x432 with 1 Axes>"
      ]
     },
     "metadata": {},
     "output_type": "display_data"
    }
   ],
   "source": [
    "plt.figure(figsize = (12,6))\n",
    "sns.lineplot(x=range(1,20), y=error_rate,color = 'black',marker='o',markerfacecolor = 'red',markersize = 8,ls='--')\n",
    "plt.xlabel('K-value',fontsize=16)\n",
    "plt.ylabel('Error Rate',fontsize=16)\n",
    "plt.xticks(range(1,20))"
   ]
  },
  {
   "cell_type": "markdown",
   "id": "e8df1286",
   "metadata": {},
   "source": [
    "We see that 1 is the optimal K-value because it has the lowest error rate."
   ]
  },
  {
   "cell_type": "code",
   "execution_count": 34,
   "id": "1a69f5df",
   "metadata": {},
   "outputs": [
    {
     "name": "stdout",
     "output_type": "stream",
     "text": [
      "KNN Accuracy: 0.6773015421986776\n"
     ]
    }
   ],
   "source": [
    "KNN = KNeighborsClassifier(n_neighbors=1).fit(X_train,y_train)\n",
    "accuracy = np.mean(cross_val_score(KNN,X_train,y_train,cv=KF,scoring='accuracy'))\n",
    "print('KNN Accuracy: '+str(accuracy))"
   ]
  },
  {
   "cell_type": "markdown",
   "id": "32f9e62c",
   "metadata": {},
   "source": [
    "#### Support Vector Machine"
   ]
  },
  {
   "cell_type": "code",
   "execution_count": 35,
   "id": "d84e8a1a",
   "metadata": {},
   "outputs": [
    {
     "name": "stdout",
     "output_type": "stream",
     "text": [
      "SVM Accuracy: 0.9646612518066157\n"
     ]
    }
   ],
   "source": [
    "SVM = SVC()\n",
    "KF = KFold(n_splits=5,shuffle=True,random_state=101)\n",
    "accuracy = np.mean(cross_val_score(SVM,X_train,y_train,cv=KF,scoring='accuracy'))\n",
    "print('SVM Accuracy: ' + str(accuracy))"
   ]
  },
  {
   "cell_type": "markdown",
   "id": "e79d6541",
   "metadata": {},
   "source": [
    "#### Decision Tree"
   ]
  },
  {
   "cell_type": "code",
   "execution_count": 36,
   "id": "9d816b86",
   "metadata": {},
   "outputs": [
    {
     "name": "stdout",
     "output_type": "stream",
     "text": [
      "Tree Accuracy: 0.8509322841187587\n"
     ]
    }
   ],
   "source": [
    "tree = DecisionTreeClassifier()\n",
    "KF = KFold(n_splits=5,shuffle=True,random_state=101)\n",
    "accuracy = np.mean(cross_val_score(tree,X_train,y_train,cv=KF,scoring='accuracy'))\n",
    "print('Tree Accuracy: '+str(accuracy))"
   ]
  },
  {
   "cell_type": "markdown",
   "id": "ce7872ba",
   "metadata": {},
   "source": [
    "#### Random Forest"
   ]
  },
  {
   "cell_type": "code",
   "execution_count": 37,
   "id": "03492ffc",
   "metadata": {},
   "outputs": [
    {
     "name": "stdout",
     "output_type": "stream",
     "text": [
      "RF Accuracy: 0.8844223105402291\n"
     ]
    }
   ],
   "source": [
    "rf = RandomForestClassifier()\n",
    "KF = KFold(n_splits=5,shuffle=True,random_state=101)\n",
    "accuracy = np.mean(cross_val_score(rf,X_train,y_train,cv=KF,scoring='accuracy'))\n",
    "print('RF Accuracy: '+str(accuracy))"
   ]
  },
  {
   "cell_type": "markdown",
   "id": "08afca04",
   "metadata": {},
   "source": [
    "#### XGBoost"
   ]
  },
  {
   "cell_type": "code",
   "execution_count": 38,
   "id": "7583eaca",
   "metadata": {},
   "outputs": [
    {
     "name": "stdout",
     "output_type": "stream",
     "text": [
      "[16:48:02] WARNING: C:/Users/Administrator/workspace/xgboost-win64_release_1.5.0/src/learner.cc:1115: Starting in XGBoost 1.3.0, the default evaluation metric used with the objective 'multi:softprob' was changed from 'merror' to 'mlogloss'. Explicitly set eval_metric if you'd like to restore the old behavior.\n",
      "[16:48:04] WARNING: C:/Users/Administrator/workspace/xgboost-win64_release_1.5.0/src/learner.cc:1115: Starting in XGBoost 1.3.0, the default evaluation metric used with the objective 'multi:softprob' was changed from 'merror' to 'mlogloss'. Explicitly set eval_metric if you'd like to restore the old behavior.\n",
      "[16:48:05] WARNING: C:/Users/Administrator/workspace/xgboost-win64_release_1.5.0/src/learner.cc:1115: Starting in XGBoost 1.3.0, the default evaluation metric used with the objective 'multi:softprob' was changed from 'merror' to 'mlogloss'. Explicitly set eval_metric if you'd like to restore the old behavior.\n",
      "[16:48:06] WARNING: C:/Users/Administrator/workspace/xgboost-win64_release_1.5.0/src/learner.cc:1115: Starting in XGBoost 1.3.0, the default evaluation metric used with the objective 'multi:softprob' was changed from 'merror' to 'mlogloss'. Explicitly set eval_metric if you'd like to restore the old behavior.\n",
      "[16:48:08] WARNING: C:/Users/Administrator/workspace/xgboost-win64_release_1.5.0/src/learner.cc:1115: Starting in XGBoost 1.3.0, the default evaluation metric used with the objective 'multi:softprob' was changed from 'merror' to 'mlogloss'. Explicitly set eval_metric if you'd like to restore the old behavior.\n",
      "XGB Accuracy: 0.7860649585125301\n"
     ]
    }
   ],
   "source": [
    "XGB = XGBClassifier()\n",
    "KF = KFold(n_splits=5,shuffle=True,random_state=101)\n",
    "accuracy = np.mean(cross_val_score(XGB,X_train,y_train,cv=KF,scoring='accuracy'))\n",
    "\n",
    "print('XGB Accuracy: '+str(accuracy))"
   ]
  },
  {
   "cell_type": "markdown",
   "id": "b8a51781",
   "metadata": {},
   "source": [
    "In this case, Support Vector Machine blew the competition out of the water with a 97.1% accuracy. Thus, we will move forward and begin hypertuning our SVM model using Grid Search."
   ]
  },
  {
   "cell_type": "markdown",
   "id": "cf301120",
   "metadata": {},
   "source": [
    "## Hyperparameter Tuning"
   ]
  },
  {
   "cell_type": "markdown",
   "id": "0d2076c5",
   "metadata": {},
   "source": [
    "#### Grid Search"
   ]
  },
  {
   "cell_type": "markdown",
   "id": "3c0edff0",
   "metadata": {},
   "source": [
    "We will use Grid Search to find the optimal combination for the parameters 'C' and 'gamma'. Grid Search works by automatically trying every combination of given parameter and then choosing the combination with the highest score."
   ]
  },
  {
   "cell_type": "code",
   "execution_count": 39,
   "id": "65df24e9",
   "metadata": {},
   "outputs": [],
   "source": [
    "# Creating lists of possible parameters to test\n",
    "parameter_grid = {'C':[1,2,3,4,5,6,7,8,9,10,11,12],'gamma':[100,10,1,0.1,0.01], 'kernel': ['rbf']}"
   ]
  },
  {
   "cell_type": "code",
   "execution_count": 40,
   "id": "fd6d3293",
   "metadata": {},
   "outputs": [],
   "source": [
    "grid = GridSearchCV(SVC(),parameter_grid,refit=True,cv=3,verbose=3)"
   ]
  },
  {
   "cell_type": "code",
   "execution_count": 41,
   "id": "87076cb5",
   "metadata": {},
   "outputs": [
    {
     "name": "stdout",
     "output_type": "stream",
     "text": [
      "Fitting 3 folds for each of 60 candidates, totalling 180 fits\n",
      "[CV 1/3] END .....................C=1, gamma=100, kernel=rbf; total time=  25.6s\n",
      "[CV 2/3] END .....................C=1, gamma=100, kernel=rbf; total time=  25.1s\n",
      "[CV 3/3] END .....................C=1, gamma=100, kernel=rbf; total time=  26.1s\n",
      "[CV 1/3] END ......................C=1, gamma=10, kernel=rbf; total time=  17.8s\n",
      "[CV 2/3] END ......................C=1, gamma=10, kernel=rbf; total time=  17.9s\n",
      "[CV 3/3] END ......................C=1, gamma=10, kernel=rbf; total time=  18.5s\n",
      "[CV 1/3] END .......................C=1, gamma=1, kernel=rbf; total time=  11.0s\n",
      "[CV 2/3] END .......................C=1, gamma=1, kernel=rbf; total time=  11.0s\n",
      "[CV 3/3] END .......................C=1, gamma=1, kernel=rbf; total time=  11.0s\n",
      "[CV 1/3] END .....................C=1, gamma=0.1, kernel=rbf; total time=  12.2s\n",
      "[CV 2/3] END .....................C=1, gamma=0.1, kernel=rbf; total time=  12.4s\n",
      "[CV 3/3] END .....................C=1, gamma=0.1, kernel=rbf; total time=  12.3s\n",
      "[CV 1/3] END ....................C=1, gamma=0.01, kernel=rbf; total time=  17.3s\n",
      "[CV 2/3] END ....................C=1, gamma=0.01, kernel=rbf; total time=  17.4s\n",
      "[CV 3/3] END ....................C=1, gamma=0.01, kernel=rbf; total time=  17.3s\n",
      "[CV 1/3] END .....................C=2, gamma=100, kernel=rbf; total time=  27.6s\n",
      "[CV 2/3] END .....................C=2, gamma=100, kernel=rbf; total time=  27.2s\n",
      "[CV 3/3] END .....................C=2, gamma=100, kernel=rbf; total time=  27.1s\n",
      "[CV 1/3] END ......................C=2, gamma=10, kernel=rbf; total time=  16.8s\n",
      "[CV 2/3] END ......................C=2, gamma=10, kernel=rbf; total time=  16.7s\n",
      "[CV 3/3] END ......................C=2, gamma=10, kernel=rbf; total time=  17.2s\n",
      "[CV 1/3] END .......................C=2, gamma=1, kernel=rbf; total time=  10.0s\n",
      "[CV 2/3] END .......................C=2, gamma=1, kernel=rbf; total time=  10.0s\n",
      "[CV 3/3] END .......................C=2, gamma=1, kernel=rbf; total time=  10.0s\n",
      "[CV 1/3] END .....................C=2, gamma=0.1, kernel=rbf; total time=  11.2s\n",
      "[CV 2/3] END .....................C=2, gamma=0.1, kernel=rbf; total time=  11.2s\n",
      "[CV 3/3] END .....................C=2, gamma=0.1, kernel=rbf; total time=  11.3s\n",
      "[CV 1/3] END ....................C=2, gamma=0.01, kernel=rbf; total time=  17.5s\n",
      "[CV 2/3] END ....................C=2, gamma=0.01, kernel=rbf; total time=  17.4s\n",
      "[CV 3/3] END ....................C=2, gamma=0.01, kernel=rbf; total time=  17.4s\n",
      "[CV 1/3] END .....................C=3, gamma=100, kernel=rbf; total time=  27.5s\n",
      "[CV 2/3] END .....................C=3, gamma=100, kernel=rbf; total time=  27.2s\n",
      "[CV 3/3] END .....................C=3, gamma=100, kernel=rbf; total time=  27.1s\n",
      "[CV 1/3] END ......................C=3, gamma=10, kernel=rbf; total time=  16.7s\n",
      "[CV 2/3] END ......................C=3, gamma=10, kernel=rbf; total time=  16.8s\n",
      "[CV 3/3] END ......................C=3, gamma=10, kernel=rbf; total time=  16.8s\n",
      "[CV 1/3] END .......................C=3, gamma=1, kernel=rbf; total time=   9.2s\n",
      "[CV 2/3] END .......................C=3, gamma=1, kernel=rbf; total time=   9.2s\n",
      "[CV 3/3] END .......................C=3, gamma=1, kernel=rbf; total time=   9.3s\n",
      "[CV 1/3] END .....................C=3, gamma=0.1, kernel=rbf; total time=  10.5s\n",
      "[CV 2/3] END .....................C=3, gamma=0.1, kernel=rbf; total time=  10.4s\n",
      "[CV 3/3] END .....................C=3, gamma=0.1, kernel=rbf; total time=  10.6s\n",
      "[CV 1/3] END ....................C=3, gamma=0.01, kernel=rbf; total time=  17.2s\n",
      "[CV 2/3] END ....................C=3, gamma=0.01, kernel=rbf; total time=  17.2s\n",
      "[CV 3/3] END ....................C=3, gamma=0.01, kernel=rbf; total time=  17.3s\n",
      "[CV 1/3] END .....................C=4, gamma=100, kernel=rbf; total time=  28.3s\n",
      "[CV 2/3] END .....................C=4, gamma=100, kernel=rbf; total time=  26.7s\n",
      "[CV 3/3] END .....................C=4, gamma=100, kernel=rbf; total time=  27.0s\n",
      "[CV 1/3] END ......................C=4, gamma=10, kernel=rbf; total time=  16.5s\n",
      "[CV 2/3] END ......................C=4, gamma=10, kernel=rbf; total time=  16.6s\n",
      "[CV 3/3] END ......................C=4, gamma=10, kernel=rbf; total time=  16.6s\n",
      "[CV 1/3] END .......................C=4, gamma=1, kernel=rbf; total time=   9.0s\n",
      "[CV 2/3] END .......................C=4, gamma=1, kernel=rbf; total time=   9.0s\n",
      "[CV 3/3] END .......................C=4, gamma=1, kernel=rbf; total time=   9.0s\n",
      "[CV 1/3] END .....................C=4, gamma=0.1, kernel=rbf; total time=  10.1s\n",
      "[CV 2/3] END .....................C=4, gamma=0.1, kernel=rbf; total time=  10.0s\n",
      "[CV 3/3] END .....................C=4, gamma=0.1, kernel=rbf; total time=  10.1s\n",
      "[CV 1/3] END ....................C=4, gamma=0.01, kernel=rbf; total time=  17.1s\n",
      "[CV 2/3] END ....................C=4, gamma=0.01, kernel=rbf; total time=  17.1s\n",
      "[CV 3/3] END ....................C=4, gamma=0.01, kernel=rbf; total time=  17.2s\n",
      "[CV 1/3] END .....................C=5, gamma=100, kernel=rbf; total time=  27.1s\n",
      "[CV 2/3] END .....................C=5, gamma=100, kernel=rbf; total time=  26.8s\n",
      "[CV 3/3] END .....................C=5, gamma=100, kernel=rbf; total time=  27.1s\n",
      "[CV 1/3] END ......................C=5, gamma=10, kernel=rbf; total time=  16.6s\n",
      "[CV 2/3] END ......................C=5, gamma=10, kernel=rbf; total time=  16.4s\n",
      "[CV 3/3] END ......................C=5, gamma=10, kernel=rbf; total time=  16.5s\n",
      "[CV 1/3] END .......................C=5, gamma=1, kernel=rbf; total time=   8.8s\n",
      "[CV 2/3] END .......................C=5, gamma=1, kernel=rbf; total time=   8.8s\n",
      "[CV 3/3] END .......................C=5, gamma=1, kernel=rbf; total time=   8.9s\n",
      "[CV 1/3] END .....................C=5, gamma=0.1, kernel=rbf; total time=   9.7s\n",
      "[CV 2/3] END .....................C=5, gamma=0.1, kernel=rbf; total time=   9.6s\n",
      "[CV 3/3] END .....................C=5, gamma=0.1, kernel=rbf; total time=   9.7s\n",
      "[CV 1/3] END ....................C=5, gamma=0.01, kernel=rbf; total time=  16.6s\n",
      "[CV 2/3] END ....................C=5, gamma=0.01, kernel=rbf; total time=  16.6s\n",
      "[CV 3/3] END ....................C=5, gamma=0.01, kernel=rbf; total time=  16.9s\n",
      "[CV 1/3] END .....................C=6, gamma=100, kernel=rbf; total time=  27.3s\n",
      "[CV 2/3] END .....................C=6, gamma=100, kernel=rbf; total time=  26.7s\n",
      "[CV 3/3] END .....................C=6, gamma=100, kernel=rbf; total time=  26.8s\n",
      "[CV 1/3] END ......................C=6, gamma=10, kernel=rbf; total time=  16.4s\n",
      "[CV 2/3] END ......................C=6, gamma=10, kernel=rbf; total time=  16.5s\n",
      "[CV 3/3] END ......................C=6, gamma=10, kernel=rbf; total time=  16.6s\n",
      "[CV 1/3] END .......................C=6, gamma=1, kernel=rbf; total time=   8.6s\n",
      "[CV 2/3] END .......................C=6, gamma=1, kernel=rbf; total time=   8.7s\n",
      "[CV 3/3] END .......................C=6, gamma=1, kernel=rbf; total time=   8.7s\n",
      "[CV 1/3] END .....................C=6, gamma=0.1, kernel=rbf; total time=   9.3s\n",
      "[CV 2/3] END .....................C=6, gamma=0.1, kernel=rbf; total time=   9.3s\n",
      "[CV 3/3] END .....................C=6, gamma=0.1, kernel=rbf; total time=   9.4s\n",
      "[CV 1/3] END ....................C=6, gamma=0.01, kernel=rbf; total time=  16.3s\n",
      "[CV 2/3] END ....................C=6, gamma=0.01, kernel=rbf; total time=  16.4s\n",
      "[CV 3/3] END ....................C=6, gamma=0.01, kernel=rbf; total time=  16.3s\n",
      "[CV 1/3] END .....................C=7, gamma=100, kernel=rbf; total time=  27.0s\n",
      "[CV 2/3] END .....................C=7, gamma=100, kernel=rbf; total time=  26.5s\n",
      "[CV 3/3] END .....................C=7, gamma=100, kernel=rbf; total time=  27.8s\n",
      "[CV 1/3] END ......................C=7, gamma=10, kernel=rbf; total time=  16.4s\n",
      "[CV 2/3] END ......................C=7, gamma=10, kernel=rbf; total time=  16.4s\n",
      "[CV 3/3] END ......................C=7, gamma=10, kernel=rbf; total time=  16.8s\n",
      "[CV 1/3] END .......................C=7, gamma=1, kernel=rbf; total time=   8.5s\n",
      "[CV 2/3] END .......................C=7, gamma=1, kernel=rbf; total time=   8.6s\n",
      "[CV 3/3] END .......................C=7, gamma=1, kernel=rbf; total time=   8.6s\n",
      "[CV 1/3] END .....................C=7, gamma=0.1, kernel=rbf; total time=   9.0s\n",
      "[CV 2/3] END .....................C=7, gamma=0.1, kernel=rbf; total time=   9.0s\n"
     ]
    },
    {
     "name": "stdout",
     "output_type": "stream",
     "text": [
      "[CV 3/3] END .....................C=7, gamma=0.1, kernel=rbf; total time=   9.1s\n",
      "[CV 1/3] END ....................C=7, gamma=0.01, kernel=rbf; total time=  15.9s\n",
      "[CV 2/3] END ....................C=7, gamma=0.01, kernel=rbf; total time=  15.9s\n",
      "[CV 3/3] END ....................C=7, gamma=0.01, kernel=rbf; total time=  15.9s\n",
      "[CV 1/3] END .....................C=8, gamma=100, kernel=rbf; total time=  27.9s\n",
      "[CV 2/3] END .....................C=8, gamma=100, kernel=rbf; total time=  26.6s\n",
      "[CV 3/3] END .....................C=8, gamma=100, kernel=rbf; total time=  27.1s\n",
      "[CV 1/3] END ......................C=8, gamma=10, kernel=rbf; total time=  17.7s\n",
      "[CV 2/3] END ......................C=8, gamma=10, kernel=rbf; total time=  16.3s\n",
      "[CV 3/3] END ......................C=8, gamma=10, kernel=rbf; total time=  16.5s\n",
      "[CV 1/3] END .......................C=8, gamma=1, kernel=rbf; total time=   8.4s\n",
      "[CV 2/3] END .......................C=8, gamma=1, kernel=rbf; total time=   8.5s\n",
      "[CV 3/3] END .......................C=8, gamma=1, kernel=rbf; total time=   8.5s\n",
      "[CV 1/3] END .....................C=8, gamma=0.1, kernel=rbf; total time=   8.9s\n",
      "[CV 2/3] END .....................C=8, gamma=0.1, kernel=rbf; total time=   8.8s\n",
      "[CV 3/3] END .....................C=8, gamma=0.1, kernel=rbf; total time=   8.9s\n",
      "[CV 1/3] END ....................C=8, gamma=0.01, kernel=rbf; total time=  15.5s\n",
      "[CV 2/3] END ....................C=8, gamma=0.01, kernel=rbf; total time=  15.5s\n",
      "[CV 3/3] END ....................C=8, gamma=0.01, kernel=rbf; total time=  15.6s\n",
      "[CV 1/3] END .....................C=9, gamma=100, kernel=rbf; total time=  27.7s\n",
      "[CV 2/3] END .....................C=9, gamma=100, kernel=rbf; total time=  26.6s\n",
      "[CV 3/3] END .....................C=9, gamma=100, kernel=rbf; total time=  26.9s\n",
      "[CV 1/3] END ......................C=9, gamma=10, kernel=rbf; total time=  16.8s\n",
      "[CV 2/3] END ......................C=9, gamma=10, kernel=rbf; total time=  16.4s\n",
      "[CV 3/3] END ......................C=9, gamma=10, kernel=rbf; total time=  16.5s\n",
      "[CV 1/3] END .......................C=9, gamma=1, kernel=rbf; total time=   8.4s\n",
      "[CV 2/3] END .......................C=9, gamma=1, kernel=rbf; total time=   8.4s\n",
      "[CV 3/3] END .......................C=9, gamma=1, kernel=rbf; total time=   8.4s\n",
      "[CV 1/3] END .....................C=9, gamma=0.1, kernel=rbf; total time=   8.7s\n",
      "[CV 2/3] END .....................C=9, gamma=0.1, kernel=rbf; total time=   8.7s\n",
      "[CV 3/3] END .....................C=9, gamma=0.1, kernel=rbf; total time=   8.8s\n",
      "[CV 1/3] END ....................C=9, gamma=0.01, kernel=rbf; total time=  15.1s\n",
      "[CV 2/3] END ....................C=9, gamma=0.01, kernel=rbf; total time=  15.2s\n",
      "[CV 3/3] END ....................C=9, gamma=0.01, kernel=rbf; total time=  15.2s\n",
      "[CV 1/3] END ....................C=10, gamma=100, kernel=rbf; total time=  27.5s\n",
      "[CV 2/3] END ....................C=10, gamma=100, kernel=rbf; total time=  26.2s\n",
      "[CV 3/3] END ....................C=10, gamma=100, kernel=rbf; total time=  27.0s\n",
      "[CV 1/3] END .....................C=10, gamma=10, kernel=rbf; total time=  16.5s\n",
      "[CV 2/3] END .....................C=10, gamma=10, kernel=rbf; total time=  16.2s\n",
      "[CV 3/3] END .....................C=10, gamma=10, kernel=rbf; total time=  16.4s\n",
      "[CV 1/3] END ......................C=10, gamma=1, kernel=rbf; total time=   8.3s\n",
      "[CV 2/3] END ......................C=10, gamma=1, kernel=rbf; total time=   8.4s\n",
      "[CV 3/3] END ......................C=10, gamma=1, kernel=rbf; total time=   8.4s\n",
      "[CV 1/3] END ....................C=10, gamma=0.1, kernel=rbf; total time=   8.5s\n",
      "[CV 2/3] END ....................C=10, gamma=0.1, kernel=rbf; total time=   8.5s\n",
      "[CV 3/3] END ....................C=10, gamma=0.1, kernel=rbf; total time=   8.6s\n",
      "[CV 1/3] END ...................C=10, gamma=0.01, kernel=rbf; total time=  14.7s\n",
      "[CV 2/3] END ...................C=10, gamma=0.01, kernel=rbf; total time=  14.8s\n",
      "[CV 3/3] END ...................C=10, gamma=0.01, kernel=rbf; total time=  14.8s\n",
      "[CV 1/3] END ....................C=11, gamma=100, kernel=rbf; total time=  26.9s\n",
      "[CV 2/3] END ....................C=11, gamma=100, kernel=rbf; total time=  26.5s\n",
      "[CV 3/3] END ....................C=11, gamma=100, kernel=rbf; total time=  27.5s\n",
      "[CV 1/3] END .....................C=11, gamma=10, kernel=rbf; total time=  16.2s\n",
      "[CV 2/3] END .....................C=11, gamma=10, kernel=rbf; total time=  16.2s\n",
      "[CV 3/3] END .....................C=11, gamma=10, kernel=rbf; total time=  16.7s\n",
      "[CV 1/3] END ......................C=11, gamma=1, kernel=rbf; total time=   8.2s\n",
      "[CV 2/3] END ......................C=11, gamma=1, kernel=rbf; total time=   8.3s\n",
      "[CV 3/3] END ......................C=11, gamma=1, kernel=rbf; total time=   8.4s\n",
      "[CV 1/3] END ....................C=11, gamma=0.1, kernel=rbf; total time=   8.3s\n",
      "[CV 2/3] END ....................C=11, gamma=0.1, kernel=rbf; total time=   8.4s\n",
      "[CV 3/3] END ....................C=11, gamma=0.1, kernel=rbf; total time=   8.4s\n",
      "[CV 1/3] END ...................C=11, gamma=0.01, kernel=rbf; total time=  14.4s\n",
      "[CV 2/3] END ...................C=11, gamma=0.01, kernel=rbf; total time=  14.5s\n",
      "[CV 3/3] END ...................C=11, gamma=0.01, kernel=rbf; total time=  14.5s\n",
      "[CV 1/3] END ....................C=12, gamma=100, kernel=rbf; total time=  28.1s\n",
      "[CV 2/3] END ....................C=12, gamma=100, kernel=rbf; total time=  26.6s\n",
      "[CV 3/3] END ....................C=12, gamma=100, kernel=rbf; total time=  27.4s\n",
      "[CV 1/3] END .....................C=12, gamma=10, kernel=rbf; total time=  16.3s\n",
      "[CV 2/3] END .....................C=12, gamma=10, kernel=rbf; total time=  16.8s\n",
      "[CV 3/3] END .....................C=12, gamma=10, kernel=rbf; total time=  17.3s\n",
      "[CV 1/3] END ......................C=12, gamma=1, kernel=rbf; total time=   8.2s\n",
      "[CV 2/3] END ......................C=12, gamma=1, kernel=rbf; total time=   8.2s\n",
      "[CV 3/3] END ......................C=12, gamma=1, kernel=rbf; total time=   8.3s\n",
      "[CV 1/3] END ....................C=12, gamma=0.1, kernel=rbf; total time=   8.3s\n",
      "[CV 2/3] END ....................C=12, gamma=0.1, kernel=rbf; total time=   8.3s\n",
      "[CV 3/3] END ....................C=12, gamma=0.1, kernel=rbf; total time=   8.3s\n",
      "[CV 1/3] END ...................C=12, gamma=0.01, kernel=rbf; total time=  14.2s\n",
      "[CV 2/3] END ...................C=12, gamma=0.01, kernel=rbf; total time=  14.3s\n",
      "[CV 3/3] END ...................C=12, gamma=0.01, kernel=rbf; total time=  14.3s\n"
     ]
    },
    {
     "data": {
      "text/plain": [
       "GridSearchCV(cv=3, estimator=SVC(),\n",
       "             param_grid={'C': [1, 2, 3, 4, 5, 6, 7, 8, 9, 10, 11, 12],\n",
       "                         'gamma': [100, 10, 1, 0.1, 0.01], 'kernel': ['rbf']},\n",
       "             verbose=3)"
      ]
     },
     "execution_count": 41,
     "metadata": {},
     "output_type": "execute_result"
    }
   ],
   "source": [
    "grid.fit(X_train,y_train)"
   ]
  },
  {
   "cell_type": "code",
   "execution_count": 42,
   "id": "2a0e2993",
   "metadata": {},
   "outputs": [
    {
     "data": {
      "text/plain": [
       "{'C': 7, 'gamma': 1, 'kernel': 'rbf'}"
      ]
     },
     "execution_count": 42,
     "metadata": {},
     "output_type": "execute_result"
    }
   ],
   "source": [
    "grid.best_params_"
   ]
  },
  {
   "cell_type": "markdown",
   "id": "8d9504f4",
   "metadata": {},
   "source": [
    "#### Building the Model"
   ]
  },
  {
   "cell_type": "code",
   "execution_count": 46,
   "id": "f467a6bf",
   "metadata": {},
   "outputs": [],
   "source": [
    "SVM = SVC(C=7,gamma=1,kernel='rbf')\n",
    "SVM.fit(X_train,y_train)\n",
    "predictions = SVM.predict(X_test)"
   ]
  },
  {
   "cell_type": "markdown",
   "id": "7cc4cba8",
   "metadata": {},
   "source": [
    "#### Measuring Model Performance"
   ]
  },
  {
   "cell_type": "code",
   "execution_count": 47,
   "id": "e11e1ae9",
   "metadata": {},
   "outputs": [
    {
     "name": "stdout",
     "output_type": "stream",
     "text": [
      "SVM Train Accuracy: 0.97575405419682\n",
      "SVM Test Accuracy: 0.9726398816859748\n",
      "              precision    recall  f1-score   support\n",
      "\n",
      "           0       0.93      1.00      0.96      2693\n",
      "           1       0.99      0.95      0.97      2661\n",
      "           2       1.00      0.97      0.98      2760\n",
      "\n",
      "    accuracy                           0.97      8114\n",
      "   macro avg       0.97      0.97      0.97      8114\n",
      "weighted avg       0.97      0.97      0.97      8114\n",
      "\n",
      "[[2690    1    2]\n",
      " [ 137 2515    9]\n",
      " [  59   14 2687]]\n"
     ]
    }
   ],
   "source": [
    "print('SVM Train Accuracy: ' + str(SVM.score(X_train,y_train)))\n",
    "print('SVM Test Accuracy: ' + str(SVM.score(X_test,y_test)))\n",
    "print(classification_report(y_test,predictions))\n",
    "print(confusion_matrix(y_test,predictions))"
   ]
  },
  {
   "cell_type": "markdown",
   "id": "d927f4c4",
   "metadata": {},
   "source": [
    "## Conclusion"
   ]
  },
  {
   "cell_type": "markdown",
   "id": "c6523651",
   "metadata": {},
   "source": [
    "After thorough testing, Support Vector Machine is unquestionably the best model for this data. With it, we were able to achieve:\n",
    "\n",
    "* A minimum precision score of 91%\n",
    "* A minimum recall score of 93%\n",
    "* An overall accuracy of 97%\n",
    "\n",
    "In order to get these scores, we had to had to clean the data, manipulate it, and rebalance it using SMOTE. This certainly isn't a completely exhaustive analysis of this dataset, but there is more to learn.\n",
    "\n",
    "Thank you for reading!"
   ]
  }
 ],
 "metadata": {
  "kernelspec": {
   "display_name": "Python 3",
   "language": "python",
   "name": "python3"
  },
  "language_info": {
   "codemirror_mode": {
    "name": "ipython",
    "version": 3
   },
   "file_extension": ".py",
   "mimetype": "text/x-python",
   "name": "python",
   "nbconvert_exporter": "python",
   "pygments_lexer": "ipython3",
   "version": "3.8.8"
  }
 },
 "nbformat": 4,
 "nbformat_minor": 5
}
